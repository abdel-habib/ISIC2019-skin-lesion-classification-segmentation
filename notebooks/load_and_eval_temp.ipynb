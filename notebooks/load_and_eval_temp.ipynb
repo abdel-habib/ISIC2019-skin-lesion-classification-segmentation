{
 "cells": [
  {
   "cell_type": "code",
   "execution_count": 29,
   "id": "d90055df-1d8e-4ea6-a1fa-e84c6822540e",
   "metadata": {},
   "outputs": [
    {
     "name": "stdout",
     "output_type": "stream",
     "text": [
      "The autoreload extension is already loaded. To reload it, use:\n",
      "  %reload_ext autoreload\n"
     ]
    }
   ],
   "source": [
    "import sys\n",
    "sys.path.append('../')\n",
    "\n",
    "import os\n",
    "\n",
    "from experiments.ClassifierExperiment import ClassifierExperiment\n",
    "from utils.utils import excute_cmd, execute_cmd_realtime\n",
    "\n",
    "# To allow auto reload to this notebook after modifying any external file imported\n",
    "%load_ext autoreload\n",
    "%autoreload 2"
   ]
  },
  {
   "cell_type": "code",
   "execution_count": 31,
   "id": "64d307f9-9d91-45e7-84fe-0a1a35c2a0ae",
   "metadata": {},
   "outputs": [
    {
     "name": "stdout",
     "output_type": "stream",
     "text": [
      "2023-11-29 09:51:06.019 | INFO     | __main__:<module>:38 - Excuting training pipeline with 1 epochs...\n",
      "2023-11-29 09:51:06.057 | INFO     | data_prep.dataset_loader:LoadData:24 - Loading the data from ../datasets/challenge1/train\n",
      "2023-11-29 09:51:06.129 | INFO     | data_prep.dataset_loader:LoadData:24 - Loading the data from ../datasets/challenge1/val\n",
      "2023-11-29 09:51:06.150 | INFO     | data_prep.dataset:__init__:35 - Creating a Dataset instance for train split.\n",
      "2023-11-29 09:51:06.150 | INFO     | data_prep.dataset:__init__:35 - Creating a Dataset instance for val split.\n",
      "2023-11-29 09:51:06.172 | INFO     | experiments.ClassifierExperiment:__init__:65 - Creating a classifier experiment using VGG16_BN_Attention network.\n",
      "2023-11-29 09:51:06.221 | INFO     | networks.VGG16:__init__:107 - Using VGG16_BN_Attention with configurations: num_classes='2', normalize_attn='False'\n",
      "2023-11-29 09:51:09.278 | INFO     | experiments.ClassifierExperiment:run:353 - Experiment started.\n",
      "2023-11-29 10:06:52.371 | INFO     | experiments.ClassifierExperiment:run:368 - Epoch: 01/1 | epoch time: 15.0m 43.09s | lr: 1.00000e-04 | train/loss: 0.44484 | val/loss: 0.39050 | val/accuracy: 0.82929 | val/AUC: 0.82967 | val/Kappa: 0.65878\n",
      "2023-11-29 10:06:52.374 | INFO     | callbacks.early_stopping:save_checkpoint:38 - Saving model parameters...\n",
      "2023-11-29 10:06:52.721 | INFO     | experiments.ClassifierExperiment:run_test:240 - Testing...\n",
      "2023-11-29 10:08:20.955 | INFO     | experiments.ClassifierExperiment:run_test:295 - Test Accuracy: 0.82929\n",
      "2023-11-29 10:08:20.956 | INFO     | experiments.ClassifierExperiment:run_test:296 - Test AUC: 0.82967\n",
      "2023-11-29 10:08:20.957 | INFO     | experiments.ClassifierExperiment:run_test:297 - Test Kappa: 0.65878\n",
      "2023-11-29 10:08:20.957 | INFO     | experiments.ClassifierExperiment:run_test:301 - Target 0 - Precision: 0.84921, Recall: 0.80787, F-score: 0.82803, Support: 1931\n",
      "2023-11-29 10:08:20.958 | INFO     | experiments.ClassifierExperiment:run_test:301 - Target 1 - Precision: 0.81062, Recall: 0.85147, F-score: 0.83054, Support: 1865\n",
      "2023-11-29 10:08:20.958 | INFO     | experiments.ClassifierExperiment:run_test:303 - \n",
      "Classification Report:\n",
      "              precision    recall  f1-score   support\n",
      "\n",
      "           0       0.85      0.81      0.83      1931\n",
      "           1       0.81      0.85      0.83      1865\n",
      "\n",
      "    accuracy                           0.83      3796\n",
      "   macro avg       0.83      0.83      0.83      3796\n",
      "weighted avg       0.83      0.83      0.83      3796\n",
      "\n",
      "2023-11-29 10:08:20.962 | INFO     | experiments.ClassifierExperiment:run_test:327 - \n",
      "Testing complete.\n",
      "2023-11-29 10:08:20.963 | INFO     | experiments.ClassifierExperiment:run:392 - Run complete. Total time: 00:17:11\n"
     ]
    }
   ],
   "source": [
    "command = 'python ../train.py --train_path \"../datasets/challenge1/train\" \\\n",
    "                        --valid_path \"../datasets/challenge1/val\" \\\n",
    "                        --experiment_name \"ClassifierExperiment\" \\\n",
    "                        --network_name \"VGG16_BN_Attention\" \\\n",
    "                        --max_epochs \"1\" \\\n",
    "                        --batch_size \"32\" \\\n",
    "                        --verbose \"1\"'\n",
    "\n",
    "# run the function to excute the command\n",
    "_ = execute_cmd_realtime(command, log=True)"
   ]
  },
  {
   "cell_type": "code",
   "execution_count": null,
   "id": "885a4778-270d-41d3-85b7-05fcda8b3607",
   "metadata": {},
   "outputs": [],
   "source": []
  },
  {
   "cell_type": "code",
   "execution_count": null,
   "id": "9574f770-a0d5-46f2-baf8-a582e8e73dad",
   "metadata": {},
   "outputs": [],
   "source": []
  }
 ],
 "metadata": {
  "kernelspec": {
   "display_name": "Python 3 (ipykernel)",
   "language": "python",
   "name": "python3"
  },
  "language_info": {
   "codemirror_mode": {
    "name": "ipython",
    "version": 3
   },
   "file_extension": ".py",
   "mimetype": "text/x-python",
   "name": "python",
   "nbconvert_exporter": "python",
   "pygments_lexer": "ipython3",
   "version": "3.10.12"
  }
 },
 "nbformat": 4,
 "nbformat_minor": 5
}

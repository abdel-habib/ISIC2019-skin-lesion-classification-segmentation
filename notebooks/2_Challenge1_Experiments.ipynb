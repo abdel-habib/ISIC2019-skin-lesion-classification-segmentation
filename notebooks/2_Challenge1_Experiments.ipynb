{
 "cells": [
  {
   "cell_type": "code",
   "execution_count": 1,
   "metadata": {},
   "outputs": [],
   "source": [
    "import sys\n",
    "sys.path.append('../')\n",
    "\n",
    "from utils.utils import excute_cmd, execute_cmd_realtime\n",
    "\n",
    "# To allow auto reload to this notebook after modifying any external file imported\n",
    "%load_ext autoreload\n",
    "%autoreload 2"
   ]
  },
  {
   "cell_type": "code",
   "execution_count": 10,
   "metadata": {},
   "outputs": [
    {
     "name": "stdout",
     "output_type": "stream",
     "text": [
      "usage: train.py [-h] [--train_path TRAIN_PATH] [--valid_path VALID_PATH]\n",
      "                [--output OUTPUT] [--experiment_name EXPERIMENT_NAME]\n",
      "                [--network_name NETWORK_NAME] [--max_epochs MAX_EPOCHS]\n",
      "                [--batch_size BATCH_SIZE] [--base_lr BASE_LR]\n",
      "                [--patience PATIENCE] [--img_size IMG_SIZE] [--seed SEED]\n",
      "                [--verbose VERBOSE] [--normalize_attn]\n",
      "\n",
      "options:\n",
      "  -h, --help            show this help message and exit\n",
      "  --train_path TRAIN_PATH\n",
      "                        root dir for training data\n",
      "  --valid_path VALID_PATH\n",
      "                        root dir for validation data\n",
      "  --output OUTPUT       output dir for saving results\n",
      "  --experiment_name EXPERIMENT_NAME\n",
      "                        experiment name\n",
      "  --network_name NETWORK_NAME\n",
      "                        network name\n",
      "  --max_epochs MAX_EPOCHS\n",
      "                        maximum epoch number to train\n",
      "  --batch_size BATCH_SIZE\n",
      "                        batch_size per gpu\n",
      "  --base_lr BASE_LR     network learning rate\n",
      "  --patience PATIENCE   patience for lr and early stopping scheduler\n",
      "  --img_size IMG_SIZE   input image size of network input\n",
      "  --seed SEED           random seed value\n",
      "  --verbose VERBOSE     verbose value [0:2]\n",
      "  --normalize_attn      if True, attention map is normalized by softmax;\n",
      "                        otherwise use sigmoid. This is only for certain\n",
      "                        networks.\n",
      "\n"
     ]
    }
   ],
   "source": [
    "command = 'python ../train.py --help'\n",
    "\n",
    "# run the function to excute the command\n",
    "excute_cmd(command, log=True)"
   ]
  },
  {
   "cell_type": "markdown",
   "metadata": {},
   "source": [
    "We will be excuting all training commands here to keep track of all experiments. This notebook will only contain training logs."
   ]
  },
  {
   "cell_type": "code",
   "execution_count": 4,
   "metadata": {},
   "outputs": [
    {
     "name": "stdout",
     "output_type": "stream",
     "text": [
      "2023-11-27 14:28:06.793 | INFO     | __main__:<module>:36 - Excuting training pipeline with 20 epochs...\n",
      "2023-11-27 14:28:06.804 | INFO     | data_prep.dataset_loader:LoadData:24 - Loading the data from ../datasets/challenge1/train\n",
      "2023-11-27 14:28:06.869 | INFO     | data_prep.dataset_loader:LoadData:24 - Loading the data from ../datasets/challenge1/val\n",
      "2023-11-27 14:28:06.917 | INFO     | data_prep.dataset:__init__:35 - Creating a Dataset instance for train split.\n",
      "2023-11-27 14:28:06.917 | INFO     | data_prep.dataset:__init__:35 - Creating a Dataset instance for val split.\n",
      "2023-11-27 14:28:06.953 | INFO     | experiments.ClassifierExperiment:__init__:57 - Creating a classifier experiment using VGG16_BN_Attention network.\n",
      "2023-11-27 14:28:15.096 | INFO     | networks.VGG16:__init__:107 - Using VGG16_BN_Attention with configurations: num_classes='2'\n",
      "2023-11-27 14:28:17.769 | INFO     | experiments.ClassifierExperiment:run:233 - Experiment started.\n",
      "2023-11-27 14:48:27.878 | INFO     | experiments.ClassifierExperiment:run:248 - Epoch: 01/20 | epoch time: 20.0m 10.11s | lr: 1.00000e-04 | train/loss: 0.43498 | val/loss: 0.39895 | val/accuracy: 0.81955 | val/AUC: 0.82061 | val/Kappa: 0.63979\n",
      "2023-11-27 15:06:20.925 | INFO     | experiments.ClassifierExperiment:run:248 - Epoch: 02/20 | epoch time: 17.0m 53.04s | lr: 1.00000e-04 | train/loss: 0.38360 | val/loss: 0.35237 | val/accuracy: 0.84273 | val/AUC: 0.84182 | val/Kappa: 0.68482\n",
      "2023-11-27 15:26:32.411 | INFO     | experiments.ClassifierExperiment:run:248 - Epoch: 03/20 | epoch time: 20.0m 11.48s | lr: 1.00000e-04 | train/loss: 0.35776 | val/loss: 0.37009 | val/accuracy: 0.83456 | val/AUC: 0.83273 | val/Kappa: 0.66784\n",
      "2023-11-27 15:41:04.665 | INFO     | experiments.ClassifierExperiment:run:248 - Epoch: 04/20 | epoch time: 14.0m 32.25s | lr: 1.00000e-04 | train/loss: 0.34469 | val/loss: 0.32532 | val/accuracy: 0.85880 | val/AUC: 0.85752 | val/Kappa: 0.71681\n",
      "2023-11-27 15:55:02.513 | INFO     | experiments.ClassifierExperiment:run:248 - Epoch: 05/20 | epoch time: 13.0m 57.84s | lr: 1.00000e-04 | train/loss: 0.32817 | val/loss: 0.33374 | val/accuracy: 0.85564 | val/AUC: 0.85580 | val/Kappa: 0.71130\n",
      "2023-11-27 16:09:10.636 | INFO     | experiments.ClassifierExperiment:run:248 - Epoch: 06/20 | epoch time: 14.0m 8.12s | lr: 1.00000e-04 | train/loss: 0.31857 | val/loss: 0.32429 | val/accuracy: 0.85248 | val/AUC: 0.85117 | val/Kappa: 0.70412\n",
      "2023-11-27 16:23:41.658 | INFO     | experiments.ClassifierExperiment:run:248 - Epoch: 07/20 | epoch time: 14.0m 31.02s | lr: 1.00000e-04 | train/loss: 0.30739 | val/loss: 0.32375 | val/accuracy: 0.85933 | val/AUC: 0.85833 | val/Kappa: 0.71803\n",
      "2023-11-27 16:37:42.469 | INFO     | experiments.ClassifierExperiment:run:248 - Epoch: 08/20 | epoch time: 14.0m 0.8083s | lr: 1.00000e-04 | train/loss: 0.30323 | val/loss: 0.30581 | val/accuracy: 0.86117 | val/AUC: 0.86064 | val/Kappa: 0.72198\n",
      "2023-11-27 16:52:02.638 | INFO     | experiments.ClassifierExperiment:run:248 - Epoch: 09/20 | epoch time: 14.0m 20.17s | lr: 1.00000e-04 | train/loss: 0.28792 | val/loss: 0.33054 | val/accuracy: 0.84932 | val/AUC: 0.84850 | val/Kappa: 0.69807\n",
      "2023-11-27 17:06:34.231 | INFO     | experiments.ClassifierExperiment:run:248 - Epoch: 10/20 | epoch time: 14.0m 31.59s | lr: 1.00000e-04 | train/loss: 0.28582 | val/loss: 0.31132 | val/accuracy: 0.87276 | val/AUC: 0.87286 | val/Kappa: 0.74552\n",
      "2023-11-27 17:21:04.340 | INFO     | experiments.ClassifierExperiment:run:248 - Epoch: 11/20 | epoch time: 14.0m 30.11s | lr: 1.00000e-04 | train/loss: 0.27303 | val/loss: 0.30638 | val/accuracy: 0.86723 | val/AUC: 0.86741 | val/Kappa: 0.73449\n",
      "2023-11-27 17:36:05.242 | INFO     | experiments.ClassifierExperiment:run:248 - Epoch: 12/20 | epoch time: 15.0m 0.898s | lr: 1.00000e-04 | train/loss: 0.26494 | val/loss: 0.30514 | val/accuracy: 0.87434 | val/AUC: 0.87421 | val/Kappa: 0.74856\n",
      "2023-11-27 17:51:28.357 | INFO     | experiments.ClassifierExperiment:run:248 - Epoch: 13/20 | epoch time: 15.0m 23.11s | lr: 1.00000e-04 | train/loss: 0.26549 | val/loss: 0.33668 | val/accuracy: 0.85827 | val/AUC: 0.85898 | val/Kappa: 0.71688\n",
      "2023-11-27 18:07:04.473 | INFO     | experiments.ClassifierExperiment:run:248 - Epoch: 14/20 | epoch time: 15.0m 36.11s | lr: 1.00000e-04 | train/loss: 0.25651 | val/loss: 0.29713 | val/accuracy: 0.87987 | val/AUC: 0.87931 | val/Kappa: 0.75942\n",
      "2023-11-27 18:21:45.311 | INFO     | experiments.ClassifierExperiment:run:248 - Epoch: 15/20 | epoch time: 14.0m 40.83s | lr: 1.00000e-04 | train/loss: 0.24935 | val/loss: 0.30871 | val/accuracy: 0.87092 | val/AUC: 0.87077 | val/Kappa: 0.74170\n",
      "2023-11-27 18:36:04.153 | INFO     | experiments.ClassifierExperiment:run:248 - Epoch: 16/20 | epoch time: 14.0m 18.84s | lr: 1.00000e-04 | train/loss: 0.24268 | val/loss: 0.29105 | val/accuracy: 0.88066 | val/AUC: 0.88026 | val/Kappa: 0.76108\n",
      "2023-11-27 18:50:21.588 | INFO     | experiments.ClassifierExperiment:run:248 - Epoch: 17/20 | epoch time: 14.0m 17.43s | lr: 1.00000e-04 | train/loss: 0.23453 | val/loss: 0.29464 | val/accuracy: 0.87381 | val/AUC: 0.87331 | val/Kappa: 0.74732\n",
      "2023-11-27 19:04:45.114 | INFO     | experiments.ClassifierExperiment:run:248 - Epoch: 18/20 | epoch time: 14.0m 23.52s | lr: 1.00000e-04 | train/loss: 0.23452 | val/loss: 0.30964 | val/accuracy: 0.86565 | val/AUC: 0.86525 | val/Kappa: 0.73102\n",
      "2023-11-27 19:19:50.157 | INFO     | experiments.ClassifierExperiment:run:248 - Epoch: 19/20 | epoch time: 15.0m 5.04s | lr: 1.00000e-04 | train/loss: 0.23275 | val/loss: 0.29927 | val/accuracy: 0.87592 | val/AUC: 0.87605 | val/Kappa: 0.75185\n",
      "2023-11-27 19:34:17.819 | INFO     | experiments.ClassifierExperiment:run:248 - Epoch: 20/20 | epoch time: 14.0m 27.66s | lr: 1.00000e-04 | train/loss: 0.21435 | val/loss: 0.30712 | val/accuracy: 0.86855 | val/AUC: 0.86765 | val/Kappa: 0.73656\n",
      "2023-11-27 19:34:17.822 | INFO     | callbacks.early_stopping:save_checkpoint:34 - Saving model parameters...\n",
      "2023-11-27 19:34:20.678 | INFO     | experiments.ClassifierExperiment:run:269 - Run complete. Total time: 05:06:02\n",
      "EarlyStopping counter: 1 out of 5\n",
      "EarlyStopping counter: 1 out of 5\n",
      "EarlyStopping counter: 1 out of 5\n",
      "EarlyStopping counter: 2 out of 5\n",
      "EarlyStopping counter: 3 out of 5\n",
      "EarlyStopping counter: 1 out of 5\n",
      "EarlyStopping counter: 1 out of 5\n",
      "EarlyStopping counter: 1 out of 5\n",
      "EarlyStopping counter: 2 out of 5\n",
      "EarlyStopping counter: 3 out of 5\n",
      "EarlyStopping counter: 4 out of 5\n"
     ]
    }
   ],
   "source": [
    "command = 'python ../train.py --train_path \"../datasets/challenge1/train\" \\\n",
    "                        --valid_path \"../datasets/challenge1/val\" \\\n",
    "                        --experiment_name \"ClassifierExperiment\" \\\n",
    "                        --network_name \"VGG16_BN_Attention\" \\\n",
    "                        --max_epochs \"20\" \\\n",
    "                        --batch_size \"32\" \\\n",
    "                        --verbose \"1\"'\n",
    "\n",
    "# run the function to excute the command\n",
    "_ = execute_cmd_realtime(command, log=True)"
   ]
  },
  {
   "cell_type": "markdown",
   "metadata": {},
   "source": [
    "Experimenting the same network with same configuration but using `--normalize_attn` flag to normalize the network by using softmax instead of sigmoid for attention map "
   ]
  },
  {
   "cell_type": "code",
   "execution_count": 9,
   "metadata": {},
   "outputs": [
    {
     "name": "stdout",
     "output_type": "stream",
     "text": [
      "2023-11-27 20:34:37.132 | INFO     | __main__:<module>:38 - Excuting training pipeline with 20 epochs...\n",
      "2023-11-27 20:34:37.143 | INFO     | data_prep.dataset_loader:LoadData:24 - Loading the data from ../datasets/challenge1/train\n",
      "2023-11-27 20:34:37.206 | INFO     | data_prep.dataset_loader:LoadData:24 - Loading the data from ../datasets/challenge1/val\n",
      "2023-11-27 20:34:37.224 | INFO     | data_prep.dataset:__init__:35 - Creating a Dataset instance for train split.\n",
      "2023-11-27 20:34:37.225 | INFO     | data_prep.dataset:__init__:35 - Creating a Dataset instance for val split.\n",
      "2023-11-27 20:34:37.260 | INFO     | experiments.ClassifierExperiment:__init__:57 - Creating a classifier experiment using VGG16_BN_Attention network.\n",
      "2023-11-27 20:34:39.774 | INFO     | experiments.ClassifierExperiment:__init__:73 - Normalizing the attention network.\n",
      "2023-11-27 20:34:39.775 | INFO     | networks.VGG16:__init__:107 - Using VGG16_BN_Attention with configurations: num_classes='2', normalize_attn='True'\n",
      "2023-11-27 20:34:42.370 | INFO     | experiments.ClassifierExperiment:run:238 - Experiment started.\n",
      "2023-11-27 20:49:33.794 | INFO     | experiments.ClassifierExperiment:run:253 - Epoch: 01/20 | epoch time: 14.0m 51.42s | lr: 1.00000e-04 | train/loss: 0.43469 | val/loss: 0.42608 | val/accuracy: 0.79557 | val/AUC: 0.79724 | val/Kappa: 0.59243\n",
      "2023-11-27 21:03:43.200 | INFO     | experiments.ClassifierExperiment:run:253 - Epoch: 02/20 | epoch time: 14.0m 9.399s | lr: 1.00000e-04 | train/loss: 0.38312 | val/loss: 0.34410 | val/accuracy: 0.84905 | val/AUC: 0.84835 | val/Kappa: 0.69762\n",
      "2023-11-27 21:17:36.721 | INFO     | experiments.ClassifierExperiment:run:253 - Epoch: 03/20 | epoch time: 13.0m 53.52s | lr: 1.00000e-04 | train/loss: 0.35682 | val/loss: 0.39966 | val/accuracy: 0.81823 | val/AUC: 0.81576 | val/Kappa: 0.63459\n",
      "2023-11-27 21:17:36.724 | INFO     | callbacks.early_stopping:early_stop:27 - EarlyStopping counter: 1 out of 5\n",
      "2023-11-27 21:32:35.678 | INFO     | experiments.ClassifierExperiment:run:253 - Epoch: 04/20 | epoch time: 14.0m 58.95s | lr: 1.00000e-04 | train/loss: 0.34426 | val/loss: 0.33176 | val/accuracy: 0.85063 | val/AUC: 0.84924 | val/Kappa: 0.70037\n",
      "2023-11-27 21:47:12.039 | INFO     | experiments.ClassifierExperiment:run:253 - Epoch: 05/20 | epoch time: 14.0m 36.36s | lr: 1.00000e-04 | train/loss: 0.32736 | val/loss: 0.32459 | val/accuracy: 0.85959 | val/AUC: 0.85970 | val/Kappa: 0.71918\n",
      "2023-11-27 22:01:55.855 | INFO     | experiments.ClassifierExperiment:run:253 - Epoch: 06/20 | epoch time: 14.0m 43.81s | lr: 1.00000e-04 | train/loss: 0.31933 | val/loss: 0.32422 | val/accuracy: 0.85406 | val/AUC: 0.85285 | val/Kappa: 0.70734\n",
      "2023-11-27 22:16:10.583 | INFO     | experiments.ClassifierExperiment:run:253 - Epoch: 07/20 | epoch time: 14.0m 14.73s | lr: 1.00000e-04 | train/loss: 0.30801 | val/loss: 0.31618 | val/accuracy: 0.85880 | val/AUC: 0.85848 | val/Kappa: 0.71736\n",
      "2023-11-27 22:30:28.351 | INFO     | experiments.ClassifierExperiment:run:253 - Epoch: 08/20 | epoch time: 14.0m 17.76s | lr: 1.00000e-04 | train/loss: 0.30153 | val/loss: 0.30725 | val/accuracy: 0.86670 | val/AUC: 0.86625 | val/Kappa: 0.73310\n",
      "2023-11-27 22:46:25.441 | INFO     | experiments.ClassifierExperiment:run:253 - Epoch: 09/20 | epoch time: 15.0m 57.09s | lr: 1.00000e-04 | train/loss: 0.28688 | val/loss: 0.31063 | val/accuracy: 0.86407 | val/AUC: 0.86360 | val/Kappa: 0.72782\n",
      "2023-11-27 22:46:25.445 | INFO     | callbacks.early_stopping:early_stop:27 - EarlyStopping counter: 1 out of 5\n",
      "2023-11-27 23:01:30.578 | INFO     | experiments.ClassifierExperiment:run:253 - Epoch: 10/20 | epoch time: 15.0m 5.133s | lr: 1.00000e-04 | train/loss: 0.28275 | val/loss: 0.28928 | val/accuracy: 0.87671 | val/AUC: 0.87646 | val/Kappa: 0.75324\n",
      "2023-11-27 23:15:54.411 | INFO     | experiments.ClassifierExperiment:run:253 - Epoch: 11/20 | epoch time: 14.0m 23.83s | lr: 1.00000e-04 | train/loss: 0.27535 | val/loss: 0.31320 | val/accuracy: 0.85906 | val/AUC: 0.85955 | val/Kappa: 0.71834\n",
      "2023-11-27 23:15:54.414 | INFO     | callbacks.early_stopping:early_stop:27 - EarlyStopping counter: 1 out of 5\n",
      "2023-11-27 23:30:38.228 | INFO     | experiments.ClassifierExperiment:run:253 - Epoch: 12/20 | epoch time: 14.0m 43.81s | lr: 1.00000e-04 | train/loss: 0.26284 | val/loss: 0.31365 | val/accuracy: 0.87039 | val/AUC: 0.86981 | val/Kappa: 0.74042\n",
      "2023-11-27 23:30:38.231 | INFO     | callbacks.early_stopping:early_stop:27 - EarlyStopping counter: 2 out of 5\n",
      "2023-11-27 23:50:45.821 | INFO     | experiments.ClassifierExperiment:run:253 - Epoch: 13/20 | epoch time: 20.0m 7.589s | lr: 1.00000e-04 | train/loss: 0.26392 | val/loss: 0.34000 | val/accuracy: 0.85643 | val/AUC: 0.85722 | val/Kappa: 0.71325\n",
      "2023-11-27 23:50:45.824 | INFO     | callbacks.early_stopping:early_stop:27 - EarlyStopping counter: 3 out of 5\n",
      "2023-11-28 00:06:21.309 | INFO     | experiments.ClassifierExperiment:run:253 - Epoch: 14/20 | epoch time: 15.0m 35.48s | lr: 1.00000e-04 | train/loss: 0.25401 | val/loss: 0.31068 | val/accuracy: 0.87355 | val/AUC: 0.87327 | val/Kappa: 0.74691\n",
      "2023-11-28 00:06:21.313 | INFO     | callbacks.early_stopping:early_stop:27 - EarlyStopping counter: 4 out of 5\n",
      "2023-11-28 00:22:07.879 | INFO     | experiments.ClassifierExperiment:run:253 - Epoch: 15/20 | epoch time: 15.0m 46.57s | lr: 1.00000e-04 | train/loss: 0.24622 | val/loss: 0.30214 | val/accuracy: 0.87355 | val/AUC: 0.87332 | val/Kappa: 0.74693\n",
      "2023-11-28 00:22:07.883 | INFO     | callbacks.early_stopping:early_stop:27 - EarlyStopping counter: 5 out of 5\n",
      "2023-11-28 00:22:07.884 | INFO     | callbacks.early_stopping:save_checkpoint:38 - Saving model parameters...\n",
      "2023-11-28 00:22:09.930 | INFO     | experiments.ClassifierExperiment:run:274 - Run complete. Total time: 03:47:27\n"
     ]
    }
   ],
   "source": [
    "command = 'python ../train.py --train_path \"../datasets/challenge1/train\" \\\n",
    "                        --valid_path \"../datasets/challenge1/val\" \\\n",
    "                        --experiment_name \"ClassifierExperiment\" \\\n",
    "                        --network_name \"VGG16_BN_Attention\" \\\n",
    "                        --normalize_attn \\\n",
    "                        --max_epochs \"20\" \\\n",
    "                        --batch_size \"32\" \\\n",
    "                        --verbose \"1\"'\n",
    "\n",
    "# run the function to excute the command\n",
    "_ = execute_cmd_realtime(command, log=True)"
   ]
  },
  {
   "cell_type": "markdown",
   "metadata": {},
   "source": [
    "We introduced model weights initialization as the official implementation using kaiming_normal, and re-run the first experiment on more epochs."
   ]
  },
  {
   "cell_type": "code",
   "execution_count": 2,
   "metadata": {},
   "outputs": [
    {
     "name": "stdout",
     "output_type": "stream",
     "text": [
      "2023-11-28 17:07:41.238 | INFO     | __main__:<module>:38 - Excuting training pipeline with 30 epochs...\n",
      "2023-11-28 17:07:41.263 | INFO     | data_prep.dataset_loader:LoadData:24 - Loading the data from ../datasets/challenge1/train\n",
      "2023-11-28 17:07:41.365 | INFO     | data_prep.dataset_loader:LoadData:24 - Loading the data from ../datasets/challenge1/val\n",
      "2023-11-28 17:07:41.388 | INFO     | data_prep.dataset:__init__:35 - Creating a Dataset instance for train split.\n",
      "2023-11-28 17:07:41.388 | INFO     | data_prep.dataset:__init__:35 - Creating a Dataset instance for val split.\n",
      "2023-11-28 17:07:41.780 | INFO     | experiments.ClassifierExperiment:__init__:57 - Creating a classifier experiment using VGG16_BN_Attention network.\n",
      "2023-11-28 17:07:51.702 | INFO     | networks.VGG16:__init__:107 - Using VGG16_BN_Attention with configurations: num_classes='2', normalize_attn='False'\n",
      "2023-11-28 17:07:59.650 | INFO     | experiments.ClassifierExperiment:run:238 - Experiment started.\n",
      "2023-11-28 17:24:28.902 | INFO     | experiments.ClassifierExperiment:run:253 - Epoch: 01/30 | epoch time: 16.0m 29.25s | lr: 1.00000e-04 | train/loss: 0.44464 | val/loss: 0.38168 | val/accuracy: 0.83430 | val/AUC: 0.83456 | val/Kappa: 0.66870\n",
      "2023-11-28 17:38:33.944 | INFO     | experiments.ClassifierExperiment:run:253 - Epoch: 02/30 | epoch time: 14.0m 5.022s | lr: 1.00000e-04 | train/loss: 0.38309 | val/loss: 0.35980 | val/accuracy: 0.84062 | val/AUC: 0.83963 | val/Kappa: 0.68055\n",
      "2023-11-28 17:52:34.298 | INFO     | experiments.ClassifierExperiment:run:253 - Epoch: 03/30 | epoch time: 14.0m 0.3512s | lr: 1.00000e-04 | train/loss: 0.36126 | val/loss: 0.34261 | val/accuracy: 0.84352 | val/AUC: 0.84377 | val/Kappa: 0.68713\n",
      "2023-11-28 18:07:08.865 | INFO     | experiments.ClassifierExperiment:run:253 - Epoch: 04/30 | epoch time: 14.0m 34.56s | lr: 1.00000e-04 | train/loss: 0.34272 | val/loss: 0.34805 | val/accuracy: 0.85300 | val/AUC: 0.85337 | val/Kappa: 0.70616\n",
      "2023-11-28 18:07:08.868 | INFO     | callbacks.early_stopping:early_stop:27 - EarlyStopping counter: 1 out of 5\n",
      "2023-11-28 18:22:03.732 | INFO     | experiments.ClassifierExperiment:run:253 - Epoch: 05/30 | epoch time: 14.0m 54.86s | lr: 1.00000e-04 | train/loss: 0.33512 | val/loss: 0.33835 | val/accuracy: 0.85432 | val/AUC: 0.85480 | val/Kappa: 0.70886\n",
      "2023-11-28 18:36:24.869 | INFO     | experiments.ClassifierExperiment:run:253 - Epoch: 06/30 | epoch time: 14.0m 21.13s | lr: 1.00000e-04 | train/loss: 0.31957 | val/loss: 0.33796 | val/accuracy: 0.85142 | val/AUC: 0.85155 | val/Kappa: 0.70286\n",
      "2023-11-28 18:50:53.634 | INFO     | experiments.ClassifierExperiment:run:253 - Epoch: 07/30 | epoch time: 14.0m 28.76s | lr: 1.00000e-04 | train/loss: 0.30861 | val/loss: 0.32840 | val/accuracy: 0.85801 | val/AUC: 0.85731 | val/Kappa: 0.71556\n",
      "2023-11-28 19:05:53.746 | INFO     | experiments.ClassifierExperiment:run:253 - Epoch: 08/30 | epoch time: 15.0m 0.1083s | lr: 1.00000e-04 | train/loss: 0.30412 | val/loss: 0.30080 | val/accuracy: 0.87460 | val/AUC: 0.87436 | val/Kappa: 0.74903\n",
      "2023-11-28 19:21:48.274 | INFO     | experiments.ClassifierExperiment:run:253 - Epoch: 09/30 | epoch time: 15.0m 54.53s | lr: 1.00000e-04 | train/loss: 0.28958 | val/loss: 0.33215 | val/accuracy: 0.85353 | val/AUC: 0.85221 | val/Kappa: 0.70622\n",
      "2023-11-28 19:21:48.276 | INFO     | callbacks.early_stopping:early_stop:27 - EarlyStopping counter: 1 out of 5\n",
      "2023-11-28 19:36:38.687 | INFO     | experiments.ClassifierExperiment:run:253 - Epoch: 10/30 | epoch time: 14.0m 50.41s | lr: 1.00000e-04 | train/loss: 0.28695 | val/loss: 0.33678 | val/accuracy: 0.84747 | val/AUC: 0.84652 | val/Kappa: 0.69430\n",
      "2023-11-28 19:36:38.689 | INFO     | callbacks.early_stopping:early_stop:27 - EarlyStopping counter: 2 out of 5\n",
      "2023-11-28 19:51:14.349 | INFO     | experiments.ClassifierExperiment:run:253 - Epoch: 11/30 | epoch time: 14.0m 35.66s | lr: 1.00000e-04 | train/loss: 0.27773 | val/loss: 0.29645 | val/accuracy: 0.87540 | val/AUC: 0.87501 | val/Kappa: 0.75054\n",
      "2023-11-28 20:05:49.366 | INFO     | experiments.ClassifierExperiment:run:253 - Epoch: 12/30 | epoch time: 14.0m 35.01s | lr: 1.00000e-04 | train/loss: 0.26992 | val/loss: 0.30154 | val/accuracy: 0.87645 | val/AUC: 0.87625 | val/Kappa: 0.75274\n",
      "2023-11-28 20:05:49.368 | INFO     | callbacks.early_stopping:early_stop:27 - EarlyStopping counter: 1 out of 5\n",
      "2023-11-28 20:22:24.664 | INFO     | experiments.ClassifierExperiment:run:253 - Epoch: 13/30 | epoch time: 16.0m 35.29s | lr: 1.00000e-04 | train/loss: 0.26184 | val/loss: 0.28960 | val/accuracy: 0.87882 | val/AUC: 0.87841 | val/Kappa: 0.75738\n",
      "2023-11-28 20:36:26.600 | INFO     | experiments.ClassifierExperiment:run:253 - Epoch: 14/30 | epoch time: 14.0m 1.932s | lr: 1.00000e-04 | train/loss: 0.25735 | val/loss: 0.30609 | val/accuracy: 0.87171 | val/AUC: 0.87201 | val/Kappa: 0.74351\n",
      "2023-11-28 20:36:26.602 | INFO     | callbacks.early_stopping:early_stop:27 - EarlyStopping counter: 1 out of 5\n",
      "2023-11-28 20:50:18.895 | INFO     | experiments.ClassifierExperiment:run:253 - Epoch: 15/30 | epoch time: 13.0m 52.29s | lr: 1.00000e-04 | train/loss: 0.24644 | val/loss: 0.30521 | val/accuracy: 0.87381 | val/AUC: 0.87372 | val/Kappa: 0.74752\n",
      "2023-11-28 20:50:18.897 | INFO     | callbacks.early_stopping:early_stop:27 - EarlyStopping counter: 2 out of 5\n",
      "2023-11-28 21:04:18.066 | INFO     | experiments.ClassifierExperiment:run:253 - Epoch: 16/30 | epoch time: 13.0m 59.17s | lr: 1.00000e-04 | train/loss: 0.24304 | val/loss: 0.29506 | val/accuracy: 0.87856 | val/AUC: 0.87809 | val/Kappa: 0.75683\n",
      "2023-11-28 21:04:18.069 | INFO     | callbacks.early_stopping:early_stop:27 - EarlyStopping counter: 3 out of 5\n",
      "2023-11-28 21:18:21.322 | INFO     | experiments.ClassifierExperiment:run:253 - Epoch: 17/30 | epoch time: 14.0m 3.251s | lr: 1.00000e-04 | train/loss: 0.23787 | val/loss: 0.33919 | val/accuracy: 0.85880 | val/AUC: 0.85984 | val/Kappa: 0.71812\n",
      "2023-11-28 21:18:21.324 | INFO     | callbacks.early_stopping:early_stop:27 - EarlyStopping counter: 4 out of 5\n",
      "2023-11-28 21:32:54.343 | INFO     | experiments.ClassifierExperiment:run:253 - Epoch: 18/30 | epoch time: 14.0m 33.02s | lr: 1.00000e-04 | train/loss: 0.23127 | val/loss: 0.28921 | val/accuracy: 0.87724 | val/AUC: 0.87631 | val/Kappa: 0.75397\n",
      "2023-11-28 21:47:00.414 | INFO     | experiments.ClassifierExperiment:run:253 - Epoch: 19/30 | epoch time: 14.0m 6.068s | lr: 1.00000e-04 | train/loss: 0.22717 | val/loss: 0.29211 | val/accuracy: 0.88066 | val/AUC: 0.88066 | val/Kappa: 0.76127\n",
      "2023-11-28 21:47:00.417 | INFO     | callbacks.early_stopping:early_stop:27 - EarlyStopping counter: 1 out of 5\n",
      "2023-11-28 22:00:48.042 | INFO     | experiments.ClassifierExperiment:run:253 - Epoch: 20/30 | epoch time: 13.0m 47.62s | lr: 1.00000e-04 | train/loss: 0.21986 | val/loss: 0.29665 | val/accuracy: 0.87987 | val/AUC: 0.87932 | val/Kappa: 0.75943\n",
      "2023-11-28 22:00:48.044 | INFO     | callbacks.early_stopping:early_stop:27 - EarlyStopping counter: 2 out of 5\n",
      "2023-11-28 22:15:13.069 | INFO     | experiments.ClassifierExperiment:run:253 - Epoch: 21/30 | epoch time: 14.0m 25.02s | lr: 1.00000e-04 | train/loss: 0.21286 | val/loss: 0.29721 | val/accuracy: 0.87935 | val/AUC: 0.87904 | val/Kappa: 0.75849\n",
      "2023-11-28 22:15:13.072 | INFO     | callbacks.early_stopping:early_stop:27 - EarlyStopping counter: 3 out of 5\n",
      "2023-11-28 22:29:53.649 | INFO     | experiments.ClassifierExperiment:run:253 - Epoch: 22/30 | epoch time: 14.0m 40.58s | lr: 1.00000e-04 | train/loss: 0.21292 | val/loss: 0.31480 | val/accuracy: 0.87777 | val/AUC: 0.87803 | val/Kappa: 0.75561\n",
      "2023-11-28 22:29:53.651 | INFO     | callbacks.early_stopping:early_stop:27 - EarlyStopping counter: 4 out of 5\n",
      "2023-11-28 22:44:16.075 | INFO     | experiments.ClassifierExperiment:run:253 - Epoch: 23/30 | epoch time: 14.0m 22.42s | lr: 1.00000e-04 | train/loss: 0.20842 | val/loss: 0.30428 | val/accuracy: 0.87487 | val/AUC: 0.87362 | val/Kappa: 0.74905\n",
      "2023-11-28 22:44:16.078 | INFO     | callbacks.early_stopping:early_stop:27 - EarlyStopping counter: 5 out of 5\n",
      "2023-11-28 22:44:16.082 | INFO     | callbacks.early_stopping:save_checkpoint:38 - Saving model parameters...\n",
      "2023-11-28 22:44:20.097 | INFO     | experiments.ClassifierExperiment:run:274 - Run complete. Total time: 05:36:20\n"
     ]
    }
   ],
   "source": [
    "command = 'python ../train.py --train_path \"../datasets/challenge1/train\" \\\n",
    "                        --valid_path \"../datasets/challenge1/val\" \\\n",
    "                        --experiment_name \"ClassifierExperiment\" \\\n",
    "                        --network_name \"VGG16_BN_Attention\" \\\n",
    "                        --max_epochs \"30\" \\\n",
    "                        --batch_size \"32\" \\\n",
    "                        --verbose \"1\"'\n",
    "\n",
    "# run the function to excute the command\n",
    "_ = execute_cmd_realtime(command, log=True)"
   ]
  },
  {
   "cell_type": "markdown",
   "metadata": {},
   "source": [
    "Experimenting `AdvancedHairAugmentation` in the transformation."
   ]
  },
  {
   "cell_type": "code",
   "execution_count": 2,
   "metadata": {},
   "outputs": [
    {
     "name": "stdout",
     "output_type": "stream",
     "text": [
      "2023-11-30 17:44:20.598 | INFO     | __main__:<module>:38 - Excuting training pipeline with 30 epochs...\n",
      "2023-11-30 17:44:20.629 | INFO     | data_prep.dataset_loader:LoadData:24 - Loading the data from ../datasets/challenge1/train\n",
      "2023-11-30 17:44:20.706 | INFO     | data_prep.dataset_loader:LoadData:24 - Loading the data from ../datasets/challenge1/val\n",
      "2023-11-30 17:44:20.727 | INFO     | data_prep.dataset:__init__:35 - Creating a Dataset instance for train split.\n",
      "2023-11-30 17:44:20.727 | INFO     | data_prep.dataset:__init__:35 - Creating a Dataset instance for val split.\n",
      "2023-11-30 17:44:20.791 | INFO     | experiments.ClassifierExperiment:__init__:65 - Creating a classifier experiment using VGG16_BN_Attention network.\n",
      "2023-11-30 17:44:31.335 | INFO     | networks.VGG16:__init__:107 - Using VGG16_BN_Attention with configurations: num_classes='2', normalize_attn='False'\n",
      "2023-11-30 17:44:34.680 | INFO     | experiments.ClassifierExperiment:run:352 - Experiment started.\n",
      "2023-11-30 18:02:54.177 | INFO     | callbacks.early_stopping:save_checkpoint:55 - Valid loss improved from inf to 0.371382. Saving model ...\n",
      "2023-11-30 18:02:54.693 | INFO     | experiments.ClassifierExperiment:run:374 - Epoch: 01/30 | epoch time: 18.0m 19.49s | lr: 1.00000e-04 | train/loss: 0.44285 | val/loss: 0.37138 | val/accuracy: 0.83693 | val/AUC: 0.83703 | val/Kappa: 0.67386\n",
      "2023-11-30 18:18:37.608 | INFO     | callbacks.early_stopping:save_checkpoint:55 - Valid loss improved from 0.371382 to 0.356639. Saving model ...\n",
      "2023-11-30 18:18:37.870 | INFO     | experiments.ClassifierExperiment:run:374 - Epoch: 02/30 | epoch time: 15.0m 42.91s | lr: 1.00000e-04 | train/loss: 0.38084 | val/loss: 0.35664 | val/accuracy: 0.84826 | val/AUC: 0.84744 | val/Kappa: 0.69596\n",
      "2023-11-30 18:35:22.804 | INFO     | callbacks.early_stopping:save_checkpoint:55 - Valid loss improved from 0.356639 to 0.333056. Saving model ...\n",
      "2023-11-30 18:35:23.543 | INFO     | experiments.ClassifierExperiment:run:374 - Epoch: 03/30 | epoch time: 16.0m 44.93s | lr: 1.00000e-04 | train/loss: 0.35913 | val/loss: 0.33306 | val/accuracy: 0.85564 | val/AUC: 0.85576 | val/Kappa: 0.71128\n",
      "2023-11-30 18:55:39.189 | INFO     | callbacks.early_stopping:__call__:46 - EarlyStopping counter: 1 out of 5\n",
      "2023-11-30 18:55:39.190 | INFO     | experiments.ClassifierExperiment:run:374 - Epoch: 04/30 | epoch time: 20.0m 15.64s | lr: 1.00000e-04 | train/loss: 0.34069 | val/loss: 0.35323 | val/accuracy: 0.84563 | val/AUC: 0.84641 | val/Kappa: 0.69167\n",
      "2023-11-30 19:17:34.888 | INFO     | callbacks.early_stopping:save_checkpoint:55 - Valid loss improved from 0.333056 to 0.314991. Saving model ...\n",
      "2023-11-30 19:17:35.206 | INFO     | experiments.ClassifierExperiment:run:374 - Epoch: 05/30 | epoch time: 21.0m 55.69s | lr: 1.00000e-04 | train/loss: 0.33553 | val/loss: 0.31499 | val/accuracy: 0.86091 | val/AUC: 0.86012 | val/Kappa: 0.72131\n",
      "2023-11-30 19:35:19.597 | INFO     | callbacks.early_stopping:__call__:46 - EarlyStopping counter: 1 out of 5\n",
      "2023-11-30 19:35:19.617 | INFO     | experiments.ClassifierExperiment:run:374 - Epoch: 06/30 | epoch time: 17.0m 44.39s | lr: 1.00000e-04 | train/loss: 0.32107 | val/loss: 0.32611 | val/accuracy: 0.85116 | val/AUC: 0.85131 | val/Kappa: 0.70235\n",
      "2023-11-30 20:09:05.031 | INFO     | callbacks.early_stopping:__call__:46 - EarlyStopping counter: 2 out of 5\n",
      "2023-11-30 20:09:05.036 | INFO     | experiments.ClassifierExperiment:run:374 - Epoch: 07/30 | epoch time: 33.0m 45.41s | lr: 1.00000e-04 | train/loss: 0.30881 | val/loss: 0.32233 | val/accuracy: 0.86301 | val/AUC: 0.86199 | val/Kappa: 0.72541\n",
      "2023-11-30 20:25:37.764 | INFO     | callbacks.early_stopping:save_checkpoint:55 - Valid loss improved from 0.314991 to 0.302132. Saving model ...\n",
      "2023-11-30 20:25:38.094 | INFO     | experiments.ClassifierExperiment:run:374 - Epoch: 08/30 | epoch time: 16.0m 32.72s | lr: 1.00000e-04 | train/loss: 0.30284 | val/loss: 0.30213 | val/accuracy: 0.87171 | val/AUC: 0.87126 | val/Kappa: 0.74313\n",
      "2023-11-30 20:44:22.827 | INFO     | callbacks.early_stopping:__call__:46 - EarlyStopping counter: 1 out of 5\n",
      "2023-11-30 20:44:22.837 | INFO     | experiments.ClassifierExperiment:run:374 - Epoch: 09/30 | epoch time: 18.0m 44.72s | lr: 1.00000e-04 | train/loss: 0.29841 | val/loss: 0.32310 | val/accuracy: 0.85643 | val/AUC: 0.85528 | val/Kappa: 0.71213\n",
      "2023-11-30 21:01:00.166 | INFO     | callbacks.early_stopping:__call__:46 - EarlyStopping counter: 2 out of 5\n",
      "2023-11-30 21:01:00.168 | INFO     | experiments.ClassifierExperiment:run:374 - Epoch: 10/30 | epoch time: 16.0m 37.33s | lr: 1.00000e-04 | train/loss: 0.28994 | val/loss: 0.33192 | val/accuracy: 0.85511 | val/AUC: 0.85404 | val/Kappa: 0.70954\n",
      "2023-11-30 21:21:06.595 | INFO     | callbacks.early_stopping:__call__:46 - EarlyStopping counter: 3 out of 5\n",
      "2023-11-30 21:21:06.602 | INFO     | experiments.ClassifierExperiment:run:374 - Epoch: 11/30 | epoch time: 20.0m 6.423s | lr: 1.00000e-04 | train/loss: 0.27868 | val/loss: 0.39811 | val/accuracy: 0.83641 | val/AUC: 0.83414 | val/Kappa: 0.67126\n",
      "2023-11-30 21:41:15.695 | INFO     | callbacks.early_stopping:__call__:46 - EarlyStopping counter: 4 out of 5\n",
      "2023-11-30 21:41:15.701 | INFO     | experiments.ClassifierExperiment:run:374 - Epoch: 12/30 | epoch time: 20.0m 9.089s | lr: 1.00000e-04 | train/loss: 0.27086 | val/loss: 0.34025 | val/accuracy: 0.85774 | val/AUC: 0.85859 | val/Kappa: 0.71591\n",
      "2023-11-30 21:57:45.881 | INFO     | callbacks.early_stopping:save_checkpoint:55 - Valid loss improved from 0.302132 to 0.290709. Saving model ...\n",
      "2023-11-30 21:57:46.212 | INFO     | experiments.ClassifierExperiment:run:374 - Epoch: 13/30 | epoch time: 16.0m 30.18s | lr: 1.00000e-04 | train/loss: 0.26695 | val/loss: 0.29071 | val/accuracy: 0.87460 | val/AUC: 0.87378 | val/Kappa: 0.74874\n",
      "2023-11-30 22:14:13.661 | INFO     | callbacks.early_stopping:__call__:46 - EarlyStopping counter: 1 out of 5\n",
      "2023-11-30 22:14:13.664 | INFO     | experiments.ClassifierExperiment:run:374 - Epoch: 14/30 | epoch time: 16.0m 27.44s | lr: 1.00000e-04 | train/loss: 0.26197 | val/loss: 0.29955 | val/accuracy: 0.87250 | val/AUC: 0.87227 | val/Kappa: 0.74482\n",
      "2023-11-30 22:30:08.893 | INFO     | callbacks.early_stopping:__call__:46 - EarlyStopping counter: 2 out of 5\n",
      "2023-11-30 22:30:08.894 | INFO     | experiments.ClassifierExperiment:run:374 - Epoch: 15/30 | epoch time: 15.0m 55.23s | lr: 1.00000e-04 | train/loss: 0.25214 | val/loss: 0.31336 | val/accuracy: 0.86591 | val/AUC: 0.86572 | val/Kappa: 0.73166\n",
      "2023-11-30 22:46:03.054 | INFO     | callbacks.early_stopping:__call__:46 - EarlyStopping counter: 3 out of 5\n",
      "2023-11-30 22:46:03.056 | INFO     | experiments.ClassifierExperiment:run:374 - Epoch: 16/30 | epoch time: 15.0m 54.16s | lr: 1.00000e-04 | train/loss: 0.24926 | val/loss: 0.29244 | val/accuracy: 0.88093 | val/AUC: 0.88065 | val/Kappa: 0.76167\n",
      "2023-11-30 23:06:40.251 | INFO     | callbacks.early_stopping:__call__:46 - EarlyStopping counter: 4 out of 5\n",
      "2023-11-30 23:06:40.252 | INFO     | experiments.ClassifierExperiment:run:374 - Epoch: 17/30 | epoch time: 20.0m 37.19s | lr: 1.00000e-04 | train/loss: 0.24024 | val/loss: 0.29218 | val/accuracy: 0.87987 | val/AUC: 0.88008 | val/Kappa: 0.75979\n",
      "2023-11-30 23:22:40.077 | INFO     | callbacks.early_stopping:save_checkpoint:55 - Valid loss improved from 0.290709 to 0.283091. Saving model ...\n",
      "2023-11-30 23:22:40.387 | INFO     | experiments.ClassifierExperiment:run:374 - Epoch: 18/30 | epoch time: 15.0m 59.82s | lr: 1.00000e-04 | train/loss: 0.23810 | val/loss: 0.28309 | val/accuracy: 0.88330 | val/AUC: 0.88240 | val/Kappa: 0.76612\n",
      "2023-11-30 23:40:24.501 | INFO     | callbacks.early_stopping:save_checkpoint:55 - Valid loss improved from 0.283091 to 0.281840. Saving model ...\n",
      "2023-11-30 23:40:24.795 | INFO     | experiments.ClassifierExperiment:run:374 - Epoch: 19/30 | epoch time: 17.0m 44.11s | lr: 1.00000e-04 | train/loss: 0.23527 | val/loss: 0.28184 | val/accuracy: 0.88014 | val/AUC: 0.87984 | val/Kappa: 0.76008\n",
      "2023-11-30 23:57:15.608 | INFO     | callbacks.early_stopping:__call__:46 - EarlyStopping counter: 1 out of 5\n",
      "2023-11-30 23:57:15.609 | INFO     | experiments.ClassifierExperiment:run:374 - Epoch: 20/30 | epoch time: 16.0m 50.81s | lr: 1.00000e-04 | train/loss: 0.23116 | val/loss: 0.28309 | val/accuracy: 0.88040 | val/AUC: 0.87994 | val/Kappa: 0.76053\n",
      "2023-12-01 00:14:33.270 | INFO     | callbacks.early_stopping:__call__:46 - EarlyStopping counter: 2 out of 5\n",
      "2023-12-01 00:14:33.271 | INFO     | experiments.ClassifierExperiment:run:374 - Epoch: 21/30 | epoch time: 17.0m 17.66s | lr: 1.00000e-04 | train/loss: 0.22428 | val/loss: 0.30116 | val/accuracy: 0.87513 | val/AUC: 0.87514 | val/Kappa: 0.75021\n",
      "2023-12-01 00:31:55.840 | INFO     | callbacks.early_stopping:__call__:46 - EarlyStopping counter: 3 out of 5\n",
      "2023-12-01 00:31:55.841 | INFO     | experiments.ClassifierExperiment:run:374 - Epoch: 22/30 | epoch time: 17.0m 22.57s | lr: 1.00000e-04 | train/loss: 0.21849 | val/loss: 0.30699 | val/accuracy: 0.87803 | val/AUC: 0.87802 | val/Kappa: 0.75600\n",
      "2023-12-01 00:48:46.976 | INFO     | callbacks.early_stopping:__call__:46 - EarlyStopping counter: 4 out of 5\n",
      "2023-12-01 00:48:46.977 | INFO     | experiments.ClassifierExperiment:run:374 - Epoch: 23/30 | epoch time: 16.0m 51.13s | lr: 1.00000e-04 | train/loss: 0.21234 | val/loss: 0.28396 | val/accuracy: 0.88672 | val/AUC: 0.88651 | val/Kappa: 0.77330\n",
      "2023-12-01 01:05:52.365 | INFO     | callbacks.early_stopping:__call__:46 - EarlyStopping counter: 5 out of 5\n",
      "2023-12-01 01:05:52.366 | INFO     | experiments.ClassifierExperiment:run:374 - Epoch: 24/30 | epoch time: 17.0m 5.386s | lr: 1.00000e-04 | train/loss: 0.21156 | val/loss: 0.28682 | val/accuracy: 0.88462 | val/AUC: 0.88357 | val/Kappa: 0.76869\n",
      "2023-12-01 01:05:52.368 | WARNING  | experiments.ClassifierExperiment:run:380 - Early stopping triggered at epoch 24. Ending model training.\n",
      "2023-12-01 01:05:52.370 | INFO     | experiments.ClassifierExperiment:run_test:240 - Testing...\n",
      "2023-12-01 01:07:16.521 | INFO     | experiments.ClassifierExperiment:run_test:295 - Test Accuracy: 0.88462\n",
      "2023-12-01 01:07:16.522 | INFO     | experiments.ClassifierExperiment:run_test:296 - Test AUC: 0.88357\n",
      "2023-12-01 01:07:16.523 | INFO     | experiments.ClassifierExperiment:run_test:297 - Test Kappa: 0.76869\n",
      "2023-12-01 01:07:16.523 | INFO     | experiments.ClassifierExperiment:run_test:301 - Target 0 - Precision: 0.84705, Recall: 0.94355, F-score: 0.89270, Support: 1931\n",
      "2023-12-01 01:07:16.524 | INFO     | experiments.ClassifierExperiment:run_test:301 - Target 1 - Precision: 0.93374, Recall: 0.82359, F-score: 0.87521, Support: 1865\n",
      "2023-12-01 01:07:16.524 | INFO     | experiments.ClassifierExperiment:run_test:303 - \n",
      "Classification Report:\n",
      "              precision    recall  f1-score   support\n",
      "\n",
      "           0       0.85      0.94      0.89      1931\n",
      "           1       0.93      0.82      0.88      1865\n",
      "\n",
      "    accuracy                           0.88      3796\n",
      "   macro avg       0.89      0.88      0.88      3796\n",
      "weighted avg       0.89      0.88      0.88      3796\n",
      "\n",
      "2023-12-01 01:07:16.528 | INFO     | experiments.ClassifierExperiment:run_test:327 - \n",
      "Testing complete.\n",
      "2023-12-01 01:07:16.529 | INFO     | experiments.ClassifierExperiment:run:387 - Run complete. Total time: 07:22:41\n"
     ]
    }
   ],
   "source": [
    "command = 'python ../train.py --train_path \"../datasets/challenge1/train\" \\\n",
    "                        --valid_path \"../datasets/challenge1/val\" \\\n",
    "                        --experiment_name \"ClassifierExperiment\" \\\n",
    "                        --network_name \"VGG16_BN_Attention\" \\\n",
    "                        --max_epochs \"30\" \\\n",
    "                        --batch_size \"32\" \\\n",
    "                        --verbose \"1\"'\n",
    "\n",
    "# run the function to excute the command\n",
    "_ = execute_cmd_realtime(command, log=True)"
   ]
  }
 ],
 "metadata": {
  "kernelspec": {
   "display_name": "Python 3 (ipykernel)",
   "language": "python",
   "name": "python3"
  },
  "language_info": {
   "codemirror_mode": {
    "name": "ipython",
    "version": 3
   },
   "file_extension": ".py",
   "mimetype": "text/x-python",
   "name": "python",
   "nbconvert_exporter": "python",
   "pygments_lexer": "ipython3",
   "version": "3.10.12"
  }
 },
 "nbformat": 4,
 "nbformat_minor": 4
}

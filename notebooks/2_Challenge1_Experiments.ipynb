{
 "cells": [
  {
   "cell_type": "code",
   "execution_count": 1,
   "metadata": {},
   "outputs": [],
   "source": [
    "import sys\n",
    "sys.path.append('../')\n",
    "\n",
    "from utils.utils import excute_cmd, execute_cmd_realtime\n",
    "\n",
    "# To allow auto reload to this notebook after modifying any external file imported\n",
    "%load_ext autoreload\n",
    "%autoreload 2"
   ]
  },
  {
   "cell_type": "code",
   "execution_count": 2,
   "metadata": {},
   "outputs": [
    {
     "name": "stdout",
     "output_type": "stream",
     "text": [
      "usage: train.py [-h] [--train_path TRAIN_PATH] [--valid_path VALID_PATH]\n",
      "                [--output OUTPUT] [--experiment_name EXPERIMENT_NAME]\n",
      "                [--network_name NETWORK_NAME] [--max_epochs MAX_EPOCHS]\n",
      "                [--batch_size BATCH_SIZE] [--base_lr BASE_LR]\n",
      "                [--patience PATIENCE] [--img_size IMG_SIZE] [--seed SEED]\n",
      "                [--verbose VERBOSE]\n",
      "\n",
      "options:\n",
      "  -h, --help            show this help message and exit\n",
      "  --train_path TRAIN_PATH\n",
      "                        root dir for training data\n",
      "  --valid_path VALID_PATH\n",
      "                        root dir for validation data\n",
      "  --output OUTPUT       output dir for saving results\n",
      "  --experiment_name EXPERIMENT_NAME\n",
      "                        experiment name\n",
      "  --network_name NETWORK_NAME\n",
      "                        network name\n",
      "  --max_epochs MAX_EPOCHS\n",
      "                        maximum epoch number to train\n",
      "  --batch_size BATCH_SIZE\n",
      "                        batch_size per gpu\n",
      "  --base_lr BASE_LR     network learning rate\n",
      "  --patience PATIENCE   patience for lr and early stopping scheduler\n",
      "  --img_size IMG_SIZE   input image size of network input\n",
      "  --seed SEED           random seed value\n",
      "  --verbose VERBOSE     verbose value [0:2]\n",
      "\n"
     ]
    }
   ],
   "source": [
    "command = 'python ../train.py --help'\n",
    "\n",
    "# run the function to excute the command\n",
    "excute_cmd(command, log=True)"
   ]
  },
  {
   "cell_type": "markdown",
   "metadata": {},
   "source": [
    "We will be excuting all training commands here to keep track of all experiments. This notebook will only contain training logs."
   ]
  },
  {
   "cell_type": "code",
   "execution_count": null,
   "metadata": {},
   "outputs": [],
   "source": [
    "command = 'python ../train.py --train_path \"../datasets/challenge1/train\" \\\n",
    "                    --valid_path \"../datasets/challenge1/val\" \\\n",
    "                    --experiment_name \"ResNetMel_base_transfer_learning\" \\\n",
    "                    --network_name \"ResNetMel\" \\\n",
    "                    --max_epochs \"20\" \\\n",
    "                    --batch_size \"32\" \\\n",
    "                    --verbose \"2\"'\n",
    "\n",
    "# run the function to excute the command\n",
    "_ = execute_cmd_realtime(command, log=False)"
   ]
  },
  {
   "cell_type": "code",
   "execution_count": null,
   "metadata": {},
   "outputs": [],
   "source": []
  }
 ],
 "metadata": {
  "kernelspec": {
   "display_name": "Python 3 (ipykernel)",
   "language": "python",
   "name": "python3"
  },
  "language_info": {
   "codemirror_mode": {
    "name": "ipython",
    "version": 3
   },
   "file_extension": ".py",
   "mimetype": "text/x-python",
   "name": "python",
   "nbconvert_exporter": "python",
   "pygments_lexer": "ipython3",
   "version": "3.10.12"
  }
 },
 "nbformat": 4,
 "nbformat_minor": 4
}
